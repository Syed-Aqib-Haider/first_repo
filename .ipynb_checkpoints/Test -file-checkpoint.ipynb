{
 "cells": [
  {
   "cell_type": "markdown",
   "id": "1d05eddf-3dae-4959-8fec-848046c3c3cb",
   "metadata": {},
   "source": [
    "Hii This is test file\n"
   ]
  },
  {
   "cell_type": "code",
   "execution_count": 4,
   "id": "b0262137-f18a-4179-83fb-607fa48387fd",
   "metadata": {},
   "outputs": [
    {
     "name": "stdout",
     "output_type": "stream",
     "text": [
      "hello\n"
     ]
    }
   ],
   "source": [
    "print (\"hello\")"
   ]
  },
  {
   "cell_type": "code",
   "execution_count": 6,
   "id": "85373e90-bf95-432b-99b7-932c9a9b7a76",
   "metadata": {},
   "outputs": [],
   "source": [
    "import array as ar\n",
    "import numpy as np\n",
    "import pandas as pd"
   ]
  },
  {
   "cell_type": "code",
   "execution_count": 8,
   "id": "7d1a9b60-f842-420f-83f4-14d2e565d30f",
   "metadata": {},
   "outputs": [],
   "source": [
    "import sklearn as sl"
   ]
  },
  {
   "cell_type": "code",
   "execution_count": 12,
   "id": "7b35808b-bb3a-4d7e-a7da-714d749b6617",
   "metadata": {},
   "outputs": [],
   "source": [
    "import matplotlib.pyplot as plt\n",
    "import seaborn as sns"
   ]
  },
  {
   "cell_type": "code",
   "execution_count": 16,
   "id": "5933bea1-1f13-476d-88c7-d51ae1801a20",
   "metadata": {},
   "outputs": [
    {
     "name": "stdout",
     "output_type": "stream",
     "text": [
      "for key :  elt-1  : value is  1 \n",
      "\n",
      "for key :  name  : value is   Syed Aqib Haider \n",
      "\n",
      "for key :  age  : value is  28 \n",
      "\n"
     ]
    }
   ],
   "source": [
    "first_dict = { \"elt-1\":1 , \"name\": \" Syed Aqib Haider\", \"age\" : 28}\n",
    "for key, value in first_dict.items():\n",
    "    print (\"for key : \", key, \" : value is \" , value, \"\\n\") "
   ]
  },
  {
   "cell_type": "code",
   "execution_count": null,
   "id": "a180ad58-4be2-4cab-afde-bf80efa2deda",
   "metadata": {},
   "outputs": [],
   "source": []
  }
 ],
 "metadata": {
  "kernelspec": {
   "display_name": "Python [conda env:base] *",
   "language": "python",
   "name": "conda-base-py"
  },
  "language_info": {
   "codemirror_mode": {
    "name": "ipython",
    "version": 3
   },
   "file_extension": ".py",
   "mimetype": "text/x-python",
   "name": "python",
   "nbconvert_exporter": "python",
   "pygments_lexer": "ipython3",
   "version": "3.12.7"
  }
 },
 "nbformat": 4,
 "nbformat_minor": 5
}
